{
 "cells": [
  {
   "cell_type": "markdown",
   "metadata": {},
   "source": [
    "# Red Neuronal"
   ]
  },
  {
   "cell_type": "markdown",
   "metadata": {},
   "source": [
    "En este código se hará el desarrollo de una red neuronal para el calculo del avalúo de los vehiculos nuevos con la data abierta del SRI"
   ]
  },
  {
   "cell_type": "markdown",
   "metadata": {},
   "source": [
    "Se instala las librerias necesarias"
   ]
  },
  {
   "cell_type": "code",
   "execution_count": 1,
   "metadata": {},
   "outputs": [],
   "source": [
    "import numpy as np\n",
    "import matplotlib.pyplot as plt\n",
    "import pandas as pd"
   ]
  },
  {
   "cell_type": "markdown",
   "metadata": {},
   "source": [
    "Importar el dataset, prestar atención de la ruta donde se vaya a encontrar los archivos"
   ]
  },
  {
   "cell_type": "code",
   "execution_count": 2,
   "metadata": {},
   "outputs": [
    {
     "name": "stderr",
     "output_type": "stream",
     "text": [
      "C:\\Users\\esteb\\AppData\\Local\\Temp\\ipykernel_35640\\3009898603.py:1: DtypeWarning: Columns (19,22) have mixed types. Specify dtype option on import or set low_memory=False.\n",
      "  dataset = pd.read_csv(\"C:/Users/esteb/Tesis/Datos/data/combined.csv\")\n"
     ]
    }
   ],
   "source": [
    "dataset = pd.read_csv(\"C:/Users/esteb/Tesis/Datos/data/combined.csv\")\n",
    "X = dataset.iloc[:, list(range(1, 10)) + list(range(11, 20))].values\n",
    "y = dataset.iloc[:, 10].values"
   ]
  },
  {
   "cell_type": "markdown",
   "metadata": {},
   "source": [
    "Tratamieto con los NAN's"
   ]
  },
  {
   "cell_type": "code",
   "execution_count": 3,
   "metadata": {},
   "outputs": [
    {
     "name": "stdout",
     "output_type": "stream",
     "text": [
      "[[6926730 'COMPRA LOCAL' 'MERCEDES BENZ' ... 'NEG' nan 0]\n",
      " [7927017 'COMPRA LOCAL' 'MACK' ... 'BLA' 'BLA' 1]\n",
      " [7927016 'COMPRA LOCAL' 'MACK' ... 'BLA' 'BLA' 1]\n",
      " ...\n",
      " [1929420 'COMPRA LOCAL' 'SUZUKI' ... 'ROJ' 'ROJ' 2]\n",
      " [2475044 'IMPORTACIÓN DIRECTA' 'HONDA' ... 'PLA' 'PLA' 2]\n",
      " [1930688 'COMPRA LOCAL' 'SUZUKI' ... 'VRD' 'VRD' 2]]\n"
     ]
    }
   ],
   "source": [
    "from sklearn import preprocessing\n",
    "le_X = preprocessing.LabelEncoder()\n",
    "X[:,17] = le_X.fit_transform(X[:,17])\n",
    "print(X)"
   ]
  }
 ],
 "metadata": {
  "kernelspec": {
   "display_name": "Python 3",
   "language": "python",
   "name": "python3"
  },
  "language_info": {
   "codemirror_mode": {
    "name": "ipython",
    "version": 3
   },
   "file_extension": ".py",
   "mimetype": "text/x-python",
   "name": "python",
   "nbconvert_exporter": "python",
   "pygments_lexer": "ipython3",
   "version": "3.11.9"
  }
 },
 "nbformat": 4,
 "nbformat_minor": 2
}
